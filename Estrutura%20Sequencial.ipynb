{
 "cells": [
  {
   "cell_type": "markdown",
   "id": "bb0f9514",
   "metadata": {
    "id": "bb0f9514"
   },
   "source": [
    "# Lista de Estrutura Sequencial"
   ]
  },
  {
   "cell_type": "markdown",
   "id": "4e7a8c30",
   "metadata": {
    "id": "4e7a8c30"
   },
   "source": [
    "#### 1. Faça um Programa que mostre a mensagem (print) \"Alo mundo\" na tela."
   ]
  },
  {
   "cell_type": "code",
   "execution_count": 1,
   "id": "883bfe85",
   "metadata": {
    "id": "883bfe85"
   },
   "outputs": [
    {
     "name": "stdout",
     "output_type": "stream",
     "text": [
      "Hello World\n"
     ]
    }
   ],
   "source": [
    "print('Hello World')"
   ]
  },
  {
   "cell_type": "markdown",
   "id": "71d6d6a2",
   "metadata": {
    "id": "71d6d6a2"
   },
   "source": [
    "#### 2. Faça um Programa que peça um número (input) e então mostre a mensagem: \"O número informado foi [número].\""
   ]
  },
  {
   "cell_type": "code",
   "execution_count": 13,
   "id": "30cfffcf",
   "metadata": {
    "id": "30cfffcf"
   },
   "outputs": [
    {
     "name": "stdout",
     "output_type": "stream",
     "text": [
      "O número informado foi 25\n"
     ]
    }
   ],
   "source": [
    "numero = int(input('Escreva um número'))\n",
    "print(f'O número informado foi {numero}')"
   ]
  },
  {
   "cell_type": "markdown",
   "id": "c5e43160",
   "metadata": {
    "id": "c5e43160"
   },
   "source": [
    "#### 3. Faça um Programa que peça dois números e imprima a soma."
   ]
  },
  {
   "cell_type": "code",
   "execution_count": 14,
   "id": "b0e79590",
   "metadata": {
    "id": "b0e79590"
   },
   "outputs": [
    {
     "name": "stdout",
     "output_type": "stream",
     "text": [
      "<class 'int'>\n",
      "O resultado da soma é 79\n"
     ]
    }
   ],
   "source": [
    "a = int(input('Escreva um número qualquer: '))\n",
    "b = int(input('Escreva um número qualquer: '))\n",
    "print (type(a))\n",
    "soma = a + b\n",
    "print(f'O resultado da soma é {soma}')"
   ]
  },
  {
   "cell_type": "markdown",
   "id": "17826987",
   "metadata": {
    "id": "17826987"
   },
   "source": [
    "#### 4. Faça um Programa que peça as 4 notas bimestrais de um aluno e mostre a média de todas as notas."
   ]
  },
  {
   "cell_type": "code",
   "execution_count": 16,
   "id": "23b66762",
   "metadata": {
    "id": "23b66762"
   },
   "outputs": [
    {
     "name": "stdout",
     "output_type": "stream",
     "text": [
      "Sua nota para o primeiro bimestre foi 7.8\n",
      "Sua nota para o segundo bimestre foi 5.6\n",
      "Sua nota para o terceiro bimestre foi 8.9\n",
      "Sua nota para o quarto bimestre foi 9.4\n",
      "A sua média é 7.924999999999999\n"
     ]
    }
   ],
   "source": [
    "bimestre_1 = float(input('Escreva a nota do primeiro bimestre: '))\n",
    "bimestre_2 = float(input('Escreva a nota do segundo bimestre: '))\n",
    "bimestre_3 = float(input('Escreva a nota do terceiro bimestre: '))\n",
    "bimestre_4 = float(input('Escreva a nota do quarto bimestre: '))\n",
    "media = (bimestre_1 + bimestre_2 + bimestre_3 + bimestre_4)/4\n",
    "print(f'Sua nota para o primeiro bimestre foi {bimestre_1}')\n",
    "print(f'Sua nota para o segundo bimestre foi {bimestre_2}')\n",
    "print(f'Sua nota para o terceiro bimestre foi {bimestre_3}')\n",
    "print(f'Sua nota para o quarto bimestre foi {bimestre_4}')\n",
    "print(f'A sua média é {media}')"
   ]
  },
  {
   "cell_type": "markdown",
   "id": "62d461c5",
   "metadata": {
    "id": "62d461c5"
   },
   "source": [
    "#### 5. Faça um Programa que converta metros para centímetros. Você pode pedir o comprimento em metros para o usuário (input)."
   ]
  },
  {
   "cell_type": "code",
   "execution_count": 17,
   "id": "d642f1ba",
   "metadata": {
    "id": "d642f1ba"
   },
   "outputs": [
    {
     "name": "stdout",
     "output_type": "stream",
     "text": [
      "1.56 metros equivale a 156.0 centímetros\n"
     ]
    }
   ],
   "source": [
    "medida = float(input('Insira o comprimento em metros'))\n",
    "conversao = medida*100\n",
    "\n",
    "print (f'{medida} metros equivale a {conversao} centímetros')"
   ]
  },
  {
   "cell_type": "markdown",
   "id": "f1311697",
   "metadata": {
    "id": "f1311697"
   },
   "source": [
    "#### 6. Faça um Programa que calcule a área de uma sala de um apartamento. Para isso, o seu programa precisa pedir a largura da sala, o comprimento da sala e imprimir a área em m² da sala."
   ]
  },
  {
   "cell_type": "code",
   "execution_count": 18,
   "id": "612ea24b",
   "metadata": {
    "id": "612ea24b"
   },
   "outputs": [
    {
     "name": "stdout",
     "output_type": "stream",
     "text": [
      "Sua sala tem 8.0 metros quadrados.\n"
     ]
    }
   ],
   "source": [
    "largura = float(input('Qual a largura da sala (em metros)?'))\n",
    "comprimento = float(input('Qual o comprimento da sala (em metros)?'))\n",
    "\n",
    "area = largura * comprimento\n",
    "print(f'Sua sala tem {area} metros quadrados.')"
   ]
  },
  {
   "cell_type": "markdown",
   "id": "2a285929",
   "metadata": {
    "id": "2a285929"
   },
   "source": [
    "#### 7. Faça um Programa que pergunte quanto você ganha por hora e o número de horas trabalhadas no mês. Calcule e mostre o total do seu salário no referido mês."
   ]
  },
  {
   "cell_type": "code",
   "execution_count": null,
   "id": "359e2232",
   "metadata": {
    "id": "359e2232"
   },
   "outputs": [
    {
     "name": "stdout",
     "output_type": "stream",
     "text": [
      "Seu salário mensal é de R$ 13600.0\n"
     ]
    }
   ],
   "source": [
    "salario_hora = float(input('Quanto você ganha por hora (em R$)?'))\n",
    "hora_trabalhada = float(input('Quantas horas você trabalha por semana?'))\n",
    "\n",
    "salario_mensal = salario_hora * hora_trabalhada * 4\n",
    "\n",
    "print(f'Seu salário mensal é de R$ {salario_mensal}')"
   ]
  },
  {
   "cell_type": "markdown",
   "id": "7e2d4615",
   "metadata": {
    "id": "7e2d4615"
   },
   "source": [
    "#### 8. Vamos criar um conversor de temperatura. Faça um Programa que peça a temperatura em graus Fahrenheit, transforme e mostre a temperatura em graus Celsius.\n",
    "$C = \\frac{5}{9}(F-32)$"
   ]
  },
  {
   "cell_type": "code",
   "execution_count": 20,
   "id": "82daf9fd",
   "metadata": {
    "id": "82daf9fd"
   },
   "outputs": [
    {
     "name": "stdout",
     "output_type": "stream",
     "text": [
      "Está fazendo 8.88888888888889 graus Celsius\n"
     ]
    }
   ],
   "source": [
    "temperatura_fahrenheit = float(input('Está fazendo quantos graus?'))\n",
    "\n",
    "temperatura_celsius = 5/9 * (temperatura_fahrenheit - 32)\n",
    "\n",
    "print(f'Está fazendo {temperatura_celsius} graus Celsius')"
   ]
  },
  {
   "cell_type": "markdown",
   "id": "20708b1c",
   "metadata": {
    "id": "20708b1c"
   },
   "source": [
    "#### 9. Faça um Programa que peça a temperatura em graus Celsius, transforme e mostre em graus Fahrenheit.\n",
    "$F = \\frac{9}{5}C + 32$"
   ]
  },
  {
   "cell_type": "code",
   "execution_count": 22,
   "id": "c73cfb38",
   "metadata": {
    "id": "c73cfb38"
   },
   "outputs": [
    {
     "name": "stdout",
     "output_type": "stream",
     "text": [
      "Está fazendo 68.0 graus Fahrenheit\n"
     ]
    }
   ],
   "source": [
    "temperatura_celsius = float(input('Está fazendo quantos graus?'))\n",
    "\n",
    "temperatura_fahrenheit = 9/5 * temperatura_celsius + 32\n",
    "\n",
    "print(f'Está fazendo {temperatura_fahrenheit} graus Fahrenheit')"
   ]
  },
  {
   "cell_type": "markdown",
   "id": "b263a9dc",
   "metadata": {
    "id": "b263a9dc"
   },
   "source": [
    "#### 10. Tendo como dados de entrada a altura (h) de uma pessoa, construa um algoritmo que calcule seu peso ideal, usando a seguinte fórmula:\n",
    "$P = 72,7h - 58$\n",
    "\n",
    "Lembrando que \"algoritmo\" nada mais é do que um programa, como todos os outros que você vem fazendo"
   ]
  },
  {
   "cell_type": "code",
   "execution_count": 28,
   "id": "9a9b8dca",
   "metadata": {
    "id": "9a9b8dca"
   },
   "outputs": [
    {
     "name": "stdout",
     "output_type": "stream",
     "text": [
      "Seu peso ideal é 59.04700000000001 kg\n"
     ]
    }
   ],
   "source": [
    "h = float(input('Qual sua altura (em metros)?'))\n",
    "P = 72.7 * h - 58\n",
    "\n",
    "print(f'Seu peso ideal é {P} kg')"
   ]
  },
  {
   "cell_type": "markdown",
   "id": "13bb40d7",
   "metadata": {
    "id": "13bb40d7"
   },
   "source": [
    "#### 11. Tendo como dado de entrada a altura (h) de uma pessoa, construa um algoritmo que calcule seu peso ideal, utilizando as seguintes fórmulas:\n",
    "##### a. Para homens: $P = 72,7h - 58$\n",
    "##### b. Para mulheres: $P = 62,1h - 44,7$"
   ]
  },
  {
   "cell_type": "code",
   "execution_count": 51,
   "id": "bf82dc8c",
   "metadata": {
    "id": "bf82dc8c"
   },
   "outputs": [
    {
     "name": "stdout",
     "output_type": "stream",
     "text": [
      "Seu peso ideal é 72.86000000000001 kg\n"
     ]
    }
   ],
   "source": [
    "h = float(input('Qual sua altura (em metros)?'))\n",
    "genero = input('Você é homem (H) ou mulher (M)?')\n",
    "if genero == 'M': P = 62.1 * h - 44.7\n",
    "else: P = 72.7 * h - 58\n",
    "\n",
    "print(f'Seu peso ideal é {P} kg')"
   ]
  },
  {
   "cell_type": "markdown",
   "id": "f208ef89",
   "metadata": {
    "id": "f208ef89"
   },
   "source": [
    "#### 12. Faça um Programa que pergunte quanto você ganha por hora e o número de horas trabalhadas no mês."
   ]
  },
  {
   "cell_type": "code",
   "execution_count": 29,
   "id": "2d5b23e0",
   "metadata": {
    "id": "2d5b23e0"
   },
   "outputs": [],
   "source": [
    "salario_hora = float(input('Quanto você ganha por hora (em R$)?'))\n",
    "hora_trabalhada = float(input('Quantas horas você trabalha por semana?'))\n",
    "hora_mes = hora_trabalhada * 4"
   ]
  },
  {
   "cell_type": "markdown",
   "id": "607dee3c",
   "metadata": {
    "id": "607dee3c"
   },
   "source": [
    "#####  Calcule o salário bruto (horas * salario por hora)"
   ]
  },
  {
   "cell_type": "code",
   "execution_count": 35,
   "id": "7f80ccbb",
   "metadata": {
    "id": "7f80ccbb"
   },
   "outputs": [
    {
     "name": "stdout",
     "output_type": "stream",
     "text": [
      "11200.0\n"
     ]
    }
   ],
   "source": [
    "salario_bruto = hora_mes * salario_hora\n",
    "print(salario_bruto)"
   ]
  },
  {
   "cell_type": "markdown",
   "id": "2ed93cb0",
   "metadata": {
    "id": "2ed93cb0"
   },
   "source": [
    "##### Calcule o desconto do IR (11% do salário bruto)"
   ]
  },
  {
   "cell_type": "code",
   "execution_count": 38,
   "id": "3363e22f",
   "metadata": {
    "id": "3363e22f"
   },
   "outputs": [
    {
     "name": "stdout",
     "output_type": "stream",
     "text": [
      "1232.0\n"
     ]
    }
   ],
   "source": [
    "IRPF = (0.11 * salario_bruto)\n",
    "print (IRPF)"
   ]
  },
  {
   "cell_type": "markdown",
   "id": "0994b2c0",
   "metadata": {
    "id": "0994b2c0"
   },
   "source": [
    "##### Calcule o desconto do INSS (8% do salário bruto)"
   ]
  },
  {
   "cell_type": "code",
   "execution_count": 40,
   "id": "748c6088",
   "metadata": {
    "id": "748c6088"
   },
   "outputs": [
    {
     "name": "stdout",
     "output_type": "stream",
     "text": [
      "896.0\n"
     ]
    }
   ],
   "source": [
    "INSS = 0.08 * salario_bruto\n",
    "print (INSS)"
   ]
  },
  {
   "cell_type": "markdown",
   "id": "06e8dae4",
   "metadata": {
    "id": "06e8dae4"
   },
   "source": [
    "##### Calcule o desconto do sindicato (5% do salário bruto)"
   ]
  },
  {
   "cell_type": "code",
   "execution_count": 41,
   "id": "21b95b15",
   "metadata": {
    "id": "21b95b15",
    "scrolled": true
   },
   "outputs": [
    {
     "name": "stdout",
     "output_type": "stream",
     "text": [
      "560.0\n"
     ]
    }
   ],
   "source": [
    "sindicato = 0.05 * salario_bruto\n",
    "print (sindicato)"
   ]
  },
  {
   "cell_type": "markdown",
   "id": "bb14ce36",
   "metadata": {
    "id": "bb14ce36"
   },
   "source": [
    "##### Calcule o salário líquido (salário bruto - descontos)"
   ]
  },
  {
   "cell_type": "code",
   "execution_count": 42,
   "id": "56317086",
   "metadata": {
    "id": "56317086"
   },
   "outputs": [
    {
     "name": "stdout",
     "output_type": "stream",
     "text": [
      "Seu salário líquido é de 8512.0\n"
     ]
    }
   ],
   "source": [
    "descontos = IRPF + INSS + sindicato\n",
    "salario_liquido = salario_bruto - descontos\n",
    "\n",
    "print(f'Seu salário líquido é de {salario_liquido}')"
   ]
  },
  {
   "cell_type": "markdown",
   "id": "cfbfcc87",
   "metadata": {
    "id": "cfbfcc87"
   },
   "source": [
    "#### 13. Faça um programa para uma loja de tintas. O programa deverá pedir o tamanho em metros quadrados da área a ser pintada. Considere que a cobertura da tinta é de 1 litro para cada 3 metros quadrados e que a tinta é vendida em latas de 18 litros, que custam R\\$ 80,00. Informe ao usuário a quantidades de latas de tinta a serem compradas e o preço total. (para simplificação nesse momento, não se preocupe em arredondar a quantidade de latas a serem compradas - vamos trabalhar isso em breve)"
   ]
  },
  {
   "cell_type": "code",
   "execution_count": 45,
   "id": "fb6a083b",
   "metadata": {
    "id": "fb6a083b"
   },
   "outputs": [
    {
     "name": "stdout",
     "output_type": "stream",
     "text": [
      "Você vai precisar de 3.3333333333333335 latas,  o que vai te custar R$266.6666666666667\n"
     ]
    }
   ],
   "source": [
    "metragem = float(input('Você pretende pintar uma área com quantos metros quadrados (m²)?'))\n",
    "quantidade_latas = metragem / 54 #quantidade de metros quadrados pintados com uma lata de 18 L cheia\n",
    "preco_lata = 80.00\n",
    "preco_total = quantidade_latas * preco_lata\n",
    "\n",
    "print(f'Você vai precisar de {quantidade_latas} latas,  o que vai te custar R${preco_total}')\n"
   ]
  },
  {
   "cell_type": "markdown",
   "id": "d6503c92",
   "metadata": {
    "id": "d6503c92"
   },
   "source": [
    "#### 14. Faça um programa que peça o tamanho de um arquivo para download (em MB) e a velocidade de um link de Internet (em Mbps), calcule e informe o tempo aproximado de download do arquivo usando este link (em minutos).\n",
    "\n",
    "Detalhe: MB significa megabyte, Mb (com b minúsculo) significa megabit. Um megabit é 1/8 de um megabyte. "
   ]
  },
  {
   "cell_type": "code",
   "execution_count": 53,
   "id": "0563aa62",
   "metadata": {
    "id": "0563aa62"
   },
   "outputs": [
    {
     "name": "stdout",
     "output_type": "stream",
     "text": [
      "O seu arquivo tem 100.0MB e vai demorar aproximadamente 13.333333333333334 minutos para terminar o download.\n"
     ]
    }
   ],
   "source": [
    "arquivo = float(input('Qual o tamanho do seu arquivo (em MB)?'))\n",
    "conexao = float(input('Informe a velocidade da sua conexão (em Mbps)'))\n",
    "\n",
    "conversao_internet = arquivo * 8\n",
    "tempo_download = conversao_internet / 60\n",
    "\n",
    "print(f'O seu arquivo tem {arquivo}MB e vai demorar aproximadamente {tempo_download} minutos para terminar o download.')\n",
    "\n",
    "\n"
   ]
  }
 ],
 "metadata": {
  "colab": {
   "provenance": []
  },
  "kernelspec": {
   "display_name": "Python 3",
   "language": "python",
   "name": "python3"
  },
  "language_info": {
   "codemirror_mode": {
    "name": "ipython",
    "version": 3
   },
   "file_extension": ".py",
   "mimetype": "text/x-python",
   "name": "python",
   "nbconvert_exporter": "python",
   "pygments_lexer": "ipython3",
   "version": "3.11.2"
  }
 },
 "nbformat": 4,
 "nbformat_minor": 5
}
